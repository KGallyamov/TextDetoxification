{
 "cells": [
  {
   "cell_type": "code",
   "execution_count": 28,
   "id": "247b6266-4c69-4c39-aa97-39fad6122224",
   "metadata": {},
   "outputs": [],
   "source": [
    "import pandas as pd\n",
    "import numpy as np\n",
    "import nltk\n",
    "import matplotlib.pyplot as plt\n",
    "from tqdm.auto import tqdm\n",
    "from collections import Counter\n",
    "import torch\n",
    "from transformers import RobertaTokenizer, RobertaForSequenceClassification, RobertaModel\n",
    "import warnings\n",
    "\n",
    "warnings.filterwarnings('ignore')"
   ]
  },
  {
   "cell_type": "markdown",
   "id": "ebc581d5-332e-4e60-b659-3353cd9103d2",
   "metadata": {},
   "source": [
    "This notebook contains analysis of approaches to evaluate the drop in toxicity, ratio of preserved meaning, and the grammatical and semantical soundness of the translation "
   ]
  },
  {
   "cell_type": "code",
   "execution_count": 3,
   "id": "d2ffa986-72e3-4e91-8fac-e148edf1dcce",
   "metadata": {},
   "outputs": [],
   "source": [
    "data = pd.read_csv('../data/interim/filtered.tsv', sep='\\t')\n",
    "del data[\"Unnamed: 0\"]"
   ]
  },
  {
   "cell_type": "code",
   "execution_count": 4,
   "id": "11c9eeec-3207-4966-87cc-3d73a3c26959",
   "metadata": {},
   "outputs": [
    {
     "data": {
      "text/html": [
       "<div>\n",
       "<style scoped>\n",
       "    .dataframe tbody tr th:only-of-type {\n",
       "        vertical-align: middle;\n",
       "    }\n",
       "\n",
       "    .dataframe tbody tr th {\n",
       "        vertical-align: top;\n",
       "    }\n",
       "\n",
       "    .dataframe thead th {\n",
       "        text-align: right;\n",
       "    }\n",
       "</style>\n",
       "<table border=\"1\" class=\"dataframe\">\n",
       "  <thead>\n",
       "    <tr style=\"text-align: right;\">\n",
       "      <th></th>\n",
       "      <th>reference</th>\n",
       "      <th>translation</th>\n",
       "      <th>similarity</th>\n",
       "      <th>ref_tox</th>\n",
       "      <th>trn_tox</th>\n",
       "      <th>length_diff</th>\n",
       "    </tr>\n",
       "  </thead>\n",
       "  <tbody>\n",
       "    <tr>\n",
       "      <th>0</th>\n",
       "      <td>If Alkar is flooding her with psychic waste, t...</td>\n",
       "      <td>if Alkar floods her with her mental waste, it ...</td>\n",
       "      <td>0.785171</td>\n",
       "      <td>0.014195</td>\n",
       "      <td>0.981983</td>\n",
       "      <td>0.010309</td>\n",
       "    </tr>\n",
       "    <tr>\n",
       "      <th>1</th>\n",
       "      <td>Now you're getting nasty.</td>\n",
       "      <td>you're becoming disgusting.</td>\n",
       "      <td>0.749687</td>\n",
       "      <td>0.065473</td>\n",
       "      <td>0.999039</td>\n",
       "      <td>0.071429</td>\n",
       "    </tr>\n",
       "    <tr>\n",
       "      <th>2</th>\n",
       "      <td>Well, we could spare your life, for one.</td>\n",
       "      <td>well, we can spare your life.</td>\n",
       "      <td>0.919051</td>\n",
       "      <td>0.213313</td>\n",
       "      <td>0.985068</td>\n",
       "      <td>0.268293</td>\n",
       "    </tr>\n",
       "    <tr>\n",
       "      <th>3</th>\n",
       "      <td>Ah! Monkey, you've got to snap out of it.</td>\n",
       "      <td>monkey, you have to wake up.</td>\n",
       "      <td>0.664333</td>\n",
       "      <td>0.053362</td>\n",
       "      <td>0.994215</td>\n",
       "      <td>0.309524</td>\n",
       "    </tr>\n",
       "    <tr>\n",
       "      <th>4</th>\n",
       "      <td>I've got orders to put her down.</td>\n",
       "      <td>I have orders to kill her.</td>\n",
       "      <td>0.726639</td>\n",
       "      <td>0.009402</td>\n",
       "      <td>0.999348</td>\n",
       "      <td>0.181818</td>\n",
       "    </tr>\n",
       "  </tbody>\n",
       "</table>\n",
       "</div>"
      ],
      "text/plain": [
       "                                           reference  \\\n",
       "0  If Alkar is flooding her with psychic waste, t...   \n",
       "1                          Now you're getting nasty.   \n",
       "2           Well, we could spare your life, for one.   \n",
       "3          Ah! Monkey, you've got to snap out of it.   \n",
       "4                   I've got orders to put her down.   \n",
       "\n",
       "                                         translation  similarity   ref_tox  \\\n",
       "0  if Alkar floods her with her mental waste, it ...    0.785171  0.014195   \n",
       "1                        you're becoming disgusting.    0.749687  0.065473   \n",
       "2                      well, we can spare your life.    0.919051  0.213313   \n",
       "3                       monkey, you have to wake up.    0.664333  0.053362   \n",
       "4                         I have orders to kill her.    0.726639  0.009402   \n",
       "\n",
       "    trn_tox  length_diff  \n",
       "0  0.981983     0.010309  \n",
       "1  0.999039     0.071429  \n",
       "2  0.985068     0.268293  \n",
       "3  0.994215     0.309524  \n",
       "4  0.999348     0.181818  "
      ]
     },
     "execution_count": 4,
     "metadata": {},
     "output_type": "execute_result"
    }
   ],
   "source": [
    "data.head()"
   ]
  },
  {
   "cell_type": "markdown",
   "id": "c91c097a-9040-43b1-8bf5-46a7029411be",
   "metadata": {},
   "source": [
    "One option is to use some BERT-like model for similarity estimation (sentence pair classification), and find third-source model for sentence tox_level estimation "
   ]
  },
  {
   "cell_type": "code",
   "execution_count": 76,
   "id": "7f1b9dcb-d3d4-4f97-8c0f-d5c47333f045",
   "metadata": {},
   "outputs": [
    {
     "name": "stderr",
     "output_type": "stream",
     "text": [
      "Some weights of the model checkpoint at roberta-base were not used when initializing RobertaForSequenceClassification: ['roberta.pooler.dense.weight', 'lm_head.decoder.weight', 'lm_head.dense.weight', 'lm_head.bias', 'lm_head.dense.bias', 'lm_head.layer_norm.bias', 'lm_head.layer_norm.weight', 'roberta.pooler.dense.bias']\n",
      "- This IS expected if you are initializing RobertaForSequenceClassification from the checkpoint of a model trained on another task or with another architecture (e.g. initializing a BertForSequenceClassification model from a BertForPreTraining model).\n",
      "- This IS NOT expected if you are initializing RobertaForSequenceClassification from the checkpoint of a model that you expect to be exactly identical (initializing a BertForSequenceClassification model from a BertForSequenceClassification model).\n",
      "Some weights of RobertaForSequenceClassification were not initialized from the model checkpoint at roberta-base and are newly initialized: ['classifier.out_proj.weight', 'classifier.out_proj.bias', 'classifier.dense.bias', 'classifier.dense.weight']\n",
      "You should probably TRAIN this model on a down-stream task to be able to use it for predictions and inference.\n"
     ]
    },
    {
     "data": {
      "application/vnd.jupyter.widget-view+json": {
       "model_id": "2e2175bcfc0a418e890994c49d3cef70",
       "version_major": 2,
       "version_minor": 0
      },
      "text/plain": [
       "  0%|          | 0/500 [00:00<?, ?it/s]"
      ]
     },
     "metadata": {},
     "output_type": "display_data"
    }
   ],
   "source": [
    "tokenizer = RobertaTokenizer.from_pretrained('roberta-base')\n",
    "model = RobertaForSequenceClassification.from_pretrained('roberta-base')\n",
    "model.eval()\n",
    "\n",
    "probs = []\n",
    "test_len = 500\n",
    "with torch.no_grad():\n",
    "    for i in tqdm(range(test_len)):\n",
    "        row = data.iloc[i]\n",
    "        sentence1 = row.reference\n",
    "        sentence2 = row.translation\n",
    "        inputs = tokenizer(sentence1, sentence2, return_tensors='pt')\n",
    "        logits = model(**inputs)[0]\n",
    "        probs.append(float(torch.softmax(logits, dim=1)[0][0]))"
   ]
  },
  {
   "cell_type": "code",
   "execution_count": 77,
   "id": "b4671767-ebbc-4e14-b79e-b1b12723c8f8",
   "metadata": {},
   "outputs": [
    {
     "name": "stdout",
     "output_type": "stream",
     "text": [
      "[[1.         0.08024862]\n",
      " [0.08024862 1.        ]]\n"
     ]
    },
    {
     "data": {
      "image/png": "[encoded data removed]",
      "text/plain": [
       "<Figure size 640x480 with 1 Axes>"
      ]
     },
     "metadata": {},
     "output_type": "display_data"
    }
   ],
   "source": [
    "plt.hist(data.similarity.to_numpy()[:test_len], alpha=0.5, label='GT', density=False)\n",
    "plt.hist(np.array(probs), alpha=0.5, label='roberta', density=False)\n",
    "plt.legend();\n",
    "print(np.corrcoef(data.similarity.to_numpy()[:test_len], np.array(probs)))"
   ]
  },
  {
   "cell_type": "markdown",
   "id": "06e0d3ba-8b20-4da9-875c-a99a7789acc6",
   "metadata": {},
   "source": [
    "This approach does not work very well, an alternative is to measure cos_sim between CLS tokens"
   ]
  },
  {
   "cell_type": "code",
   "execution_count": 74,
   "id": "d8ab8578-cfe5-4cd8-8018-a6794b4633ff",
   "metadata": {},
   "outputs": [
    {
     "name": "stderr",
     "output_type": "stream",
     "text": [
      "Some weights of the model checkpoint at roberta-base were not used when initializing RobertaModel: ['lm_head.decoder.weight', 'lm_head.dense.weight', 'lm_head.bias', 'lm_head.dense.bias', 'lm_head.layer_norm.bias', 'lm_head.layer_norm.weight']\n",
      "- This IS expected if you are initializing RobertaModel from the checkpoint of a model trained on another task or with another architecture (e.g. initializing a BertForSequenceClassification model from a BertForPreTraining model).\n",
      "- This IS NOT expected if you are initializing RobertaModel from the checkpoint of a model that you expect to be exactly identical (initializing a BertForSequenceClassification model from a BertForSequenceClassification model).\n"
     ]
    },
    {
     "data": {
      "application/vnd.jupyter.widget-view+json": {
       "model_id": "96fac70f67444d5b9731100631df277b",
       "version_major": 2,
       "version_minor": 0
      },
      "text/plain": [
       "  0%|          | 0/500 [00:00<?, ?it/s]"
      ]
     },
     "metadata": {},
     "output_type": "display_data"
    }
   ],
   "source": [
    "similarities_roberta = []\n",
    "# This code could be optmized by pipeline ( https://huggingface.co/transformers/v3.0.2/main_classes/pipelines.html#transformers.FeatureExtractionPipeline )\n",
    "#   but right now its just hypothesis testing\n",
    "roberta_model = RobertaModel.from_pretrained('roberta-base')\n",
    "roberta_model.eval()\n",
    "test_len = 500\n",
    "\n",
    "with torch.no_grad():\n",
    "    for i in tqdm(range(test_len)):\n",
    "        row = data.iloc[i]\n",
    "        sentence1 = row.reference\n",
    "        sentence2 = row.translation\n",
    "        \n",
    "        encoding1 = tokenizer(sentence1, return_tensors='pt')\n",
    "        encoding2 = tokenizer(sentence2, return_tensors='pt')\n",
    "        \n",
    "        embedding1 = roberta_model(**encoding1).last_hidden_state[:,0,:].numpy().squeeze()\n",
    "        embedding2 = roberta_model(**encoding2).last_hidden_state[:,0,:].numpy().squeeze()\n",
    "        \n",
    "        cos_sim = embedding1.T @ embedding2 / np.linalg.norm(embedding1) / np.linalg.norm(embedding2)\n",
    "        similarities_roberta.append(cos_sim)"
   ]
  },
  {
   "cell_type": "code",
   "execution_count": 75,
   "id": "58e3a339-b5c4-4a3d-b7e7-1cc0fe602233",
   "metadata": {},
   "outputs": [
    {
     "name": "stdout",
     "output_type": "stream",
     "text": [
      "[[1.         0.20794835]\n",
      " [0.20794835 1.        ]]\n"
     ]
    },
    {
     "data": {
      "image/png": "[encoded data removed]",
      "text/plain": [
       "<Figure size 640x480 with 1 Axes>"
      ]
     },
     "metadata": {},
     "output_type": "display_data"
    }
   ],
   "source": [
    "plt.hist(data.similarity.to_numpy()[:test_len], alpha=0.5, label='GT', density=False)\n",
    "plt.hist(np.array(similarities_roberta), alpha=0.5, label='roberta', density=False)\n",
    "plt.legend();\n",
    "print(np.corrcoef(data.similarity.to_numpy()[:test_len], np.array(similarities_roberta)))"
   ]
  },
  {
   "cell_type": "markdown",
   "id": "d94a1bdd-b0c3-48dc-ac39-b7a7d01203e8",
   "metadata": {},
   "source": [
    "So these estimations are too positive\n",
    "\n",
    "Let's try another model from huggingface:"
   ]
  },
  {
   "cell_type": "code",
   "execution_count": 86,
   "id": "a3c10014-3a9d-44d2-ade5-9ede10806982",
   "metadata": {},
   "outputs": [
    {
     "data": {
      "application/vnd.jupyter.widget-view+json": {
       "model_id": "ded1f63fe64645a3a91b43101894f043",
       "version_major": 2,
       "version_minor": 0
      },
      "text/plain": [
       "  0%|          | 0/500 [00:00<?, ?it/s]"
      ]
     },
     "metadata": {},
     "output_type": "display_data"
    }
   ],
   "source": [
    "# Code adapted from https://huggingface.co/sentence-transformers/all-mpnet-base-v2\n",
    "from transformers import AutoTokenizer, AutoModel\n",
    "import torch.nn.functional as F\n",
    "\n",
    "#Mean Pooling - Take attention mask into account for correct averaging\n",
    "def mean_pooling(model_output, attention_mask):\n",
    "    token_embeddings = model_output[0] #First element of model_output contains all token embeddings\n",
    "    input_mask_expanded = attention_mask.unsqueeze(-1).expand(token_embeddings.size()).float()\n",
    "    return torch.sum(token_embeddings * input_mask_expanded, 1) / torch.clamp(input_mask_expanded.sum(1), min=1e-9)\n",
    "\n",
    "\n",
    "# Load model from HuggingFace Hub\n",
    "tokenizer = AutoTokenizer.from_pretrained('sentence-transformers/all-mpnet-base-v2')\n",
    "model = AutoModel.from_pretrained('sentence-transformers/all-mpnet-base-v2')\n",
    "\n",
    "similarities_sentence_transformers = []\n",
    "\n",
    "for i in tqdm(range(test_len)):\n",
    "    row = data.iloc[i]\n",
    "    sentences = [row.reference, row.translation]\n",
    "    encoded_input = tokenizer(sentences, padding=True, truncation=True, return_tensors='pt')\n",
    "\n",
    "    with torch.no_grad():\n",
    "        model_output = model(**encoded_input)\n",
    "    \n",
    "    sentence_embeddings = mean_pooling(model_output, encoded_input['attention_mask'])\n",
    "    sentence_embeddings = F.normalize(sentence_embeddings, p=2, dim=1)\n",
    "    similarities_sentence_transformers.append(sentence_embeddings[0].numpy().T @ sentence_embeddings[1].numpy())"
   ]
  },
  {
   "cell_type": "code",
   "execution_count": 87,
   "id": "1e343bb4-dc36-4bc6-9fb1-56d39df7b60e",
   "metadata": {},
   "outputs": [
    {
     "name": "stdout",
     "output_type": "stream",
     "text": [
      "[[1.         0.53284177]\n",
      " [0.53284177 1.        ]]\n"
     ]
    },
    {
     "data": {
      "image/png": "[encoded data removed]",
      "text/plain": [
       "<Figure size 640x480 with 1 Axes>"
      ]
     },
     "metadata": {},
     "output_type": "display_data"
    }
   ],
   "source": [
    "plt.hist(data.similarity.to_numpy()[:test_len], alpha=0.5, label='GT', density=False)\n",
    "plt.hist(np.array(similarities_sentence_transformers), alpha=0.5, label='mpnet-base', density=False)\n",
    "plt.legend();\n",
    "print(np.corrcoef(data.similarity.to_numpy()[:test_len], np.array(similarities_sentence_transformers)))"
   ]
  },
  {
   "cell_type": "markdown",
   "id": "d0d79efb-bd78-4c74-98e6-a5e5d6bcebf7",
   "metadata": {},
   "source": [
    "Among neural networks based approaches this one is the best thus far"
   ]
  },
  {
   "cell_type": "markdown",
   "id": "dbf151dd-d554-4dea-8ce6-240fdf882309",
   "metadata": {},
   "source": [
    "Probably the least computationally expensive way is to just compute BLEU score:"
   ]
  },
  {
   "cell_type": "code",
   "execution_count": null,
   "id": "2218f9e7-8cac-45fb-be51-df144b4493c6",
   "metadata": {},
   "outputs": [],
   "source": [
    "from nltk.translate.bleu_score import sentence_bleu\n",
    "\n",
    "similarities_bleu = [] \n",
    "\n",
    "for i in tqdm(range(len(data))):\n",
    "    row = data.iloc[i]\n",
    "    sentence1 = row.reference\n",
    "    sentence2 = row.translation\n",
    "    similarities_bleu.append(sentence_bleu([sentence1], sentence2))"
   ]
  },
  {
   "cell_type": "code",
   "execution_count": 71,
   "id": "268784b4-fc8e-4676-88af-d427a57e7d1d",
   "metadata": {},
   "outputs": [
    {
     "name": "stdout",
     "output_type": "stream",
     "text": [
      "[[1.         0.47805723]\n",
      " [0.47805723 1.        ]]\n"
     ]
    },
    {
     "data": {
      "image/png": "[encoded data removed]",
      "text/plain": [
       "<Figure size 640x480 with 1 Axes>"
      ]
     },
     "metadata": {},
     "output_type": "display_data"
    }
   ],
   "source": [
    "plt.hist(data.similarity.to_numpy(), alpha=0.5, label='GT')\n",
    "plt.hist(np.array(similarities_bleu), alpha=0.5, label='BLEU')\n",
    "plt.legend();\n",
    "print(np.corrcoef(data.similarity.to_numpy(), np.array(similarities_bleu)))"
   ]
  },
  {
   "cell_type": "markdown",
   "id": "32232ca2-19c9-4a1b-ae3f-805decf2cce7",
   "metadata": {},
   "source": [
    "The easiest way to estimate toxicity levels would be to utilize original paper's evaluation metrics: https://github.com/s-nlp/detox/blob/main/emnlp2021/metric/metric.py"
   ]
  },
  {
   "cell_type": "code",
   "execution_count": 104,
   "id": "877f152e-2f5c-41ef-8a25-822053b96659",
   "metadata": {},
   "outputs": [
    {
     "name": "stderr",
     "output_type": "stream",
     "text": [
      "Some weights of the model checkpoint at SkolkovoInstitute/roberta_toxicity_classifier were not used when initializing RobertaForSequenceClassification: ['roberta.pooler.dense.weight', 'roberta.pooler.dense.bias']\n",
      "- This IS expected if you are initializing RobertaForSequenceClassification from the checkpoint of a model trained on another task or with another architecture (e.g. initializing a BertForSequenceClassification model from a BertForPreTraining model).\n",
      "- This IS NOT expected if you are initializing RobertaForSequenceClassification from the checkpoint of a model that you expect to be exactly identical (initializing a BertForSequenceClassification model from a BertForSequenceClassification model).\n"
     ]
    }
   ],
   "source": [
    "# Code adapted from https://github.com/s-nlp/detox/blob/main/emnlp2021/metric/metric.py\n",
    "ARGS = {'batch_size': 32, 'threshold': 0.8}\n",
    "\n",
    "model_name = 'SkolkovoInstitute/roberta_toxicity_classifier'\n",
    "\n",
    "tokenizer = RobertaTokenizer.from_pretrained(model_name)\n",
    "model = RobertaForSequenceClassification.from_pretrained(model_name)\n",
    "\n",
    "\n",
    "def classify_preds(preds, soft=False):\n",
    "    results = []\n",
    "\n",
    "    for i in range(0, len(preds), ARGS['batch_size']):\n",
    "        batch = tokenizer(preds[i:i + ARGS['batch_size']], return_tensors='pt', padding=True)\n",
    "        with torch.inference_mode():\n",
    "            logits = model(**batch).logits\n",
    "        if soft:\n",
    "            result = torch.softmax(logits, -1)[:, 1].cpu().numpy()\n",
    "        else:\n",
    "            result = (logits[:, 1] > ARGS['threshold']).cpu().numpy()\n",
    "        results.extend([1 - item for item in result])\n",
    "    return results"
   ]
  },
  {
   "cell_type": "markdown",
   "id": "ea71510a-9552-4618-bf9c-35a4bb1eb508",
   "metadata": {},
   "source": [
    "Check repeatability:"
   ]
  },
  {
   "cell_type": "code",
   "execution_count": 107,
   "id": "fd1eb786-fa04-455a-ac54-f7eaa8c71dfc",
   "metadata": {},
   "outputs": [
    {
     "data": {
      "application/vnd.jupyter.widget-view+json": {
       "model_id": "43711afd51204dfd8a608b935faf6f67",
       "version_major": 2,
       "version_minor": 0
      },
      "text/plain": [
       "  0%|          | 0/500 [00:00<?, ?it/s]"
      ]
     },
     "metadata": {},
     "output_type": "display_data"
    }
   ],
   "source": [
    "low_tox_estimate, high_tox_estimate = [], []\n",
    "\n",
    "low_tox_gt, high_tox_gt = [], []\n",
    "for i in tqdm(range(test_len)):\n",
    "    row = data.iloc[i]\n",
    "    low_tox, high_tox = row.reference, row.translation\n",
    "    if row.ref_tox > row.trn_tox:\n",
    "        low_tox, high_tox = row.translation, row.reference\n",
    "    low_tox_gt.append(min(row.ref_tox, row.trn_tox))\n",
    "    high_tox_gt.append(max(row.ref_tox, row.trn_tox))\n",
    "    _low, _high = classify_preds([low_tox, high_tox], soft=True) # This is not the best use of batching, todo - rewrite it in the src/ \n",
    "    low_tox_estimate.append(1 - _low)\n",
    "    high_tox_estimate.append(1 - _high)"
   ]
  },
  {
   "cell_type": "code",
   "execution_count": 108,
   "id": "577292b8-db0b-422b-9b7b-6543057271ba",
   "metadata": {},
   "outputs": [
    {
     "data": {
      "image/png": "[encoded data removed]",
      "text/plain": [
       "<Figure size 640x480 with 2 Axes>"
      ]
     },
     "metadata": {},
     "output_type": "display_data"
    }
   ],
   "source": [
    "plt.subplot(121)\n",
    "plt.hist(low_tox_gt, alpha=0.5, label='GT')\n",
    "plt.hist(low_tox_estimate, alpha=0.5, label='low_HF')\n",
    "plt.legend();\n",
    "plt.subplot(122)\n",
    "plt.hist(high_tox_gt, alpha=0.5, label='GT')\n",
    "plt.hist(high_tox_estimate, alpha=0.5, label='high_HF')\n",
    "plt.legend();"
   ]
  },
  {
   "cell_type": "markdown",
   "id": "ffe3b234-fae8-4be9-8e5f-b78f7ab2d995",
   "metadata": {},
   "source": [
    "Repeatability is confirmed (the non-overlapping tails can be cleaned from dataset in the case of poor performance, or get their labels reassigned)"
   ]
  },
  {
   "cell_type": "markdown",
   "id": "33e95ae1-dabd-433b-abc1-1faf04949b29",
   "metadata": {},
   "source": [
    "## Conclusions:\n",
    "\n",
    "1. As similarity measure one could use BLEU and (as a final benchmarking, since it is expensive in resources) mpnet-base (sentence-transformers/all-mpnet-base-v2)\n",
    "2. Whereas in similarity estimates it is possible to find options not involving the methods fom the original paper, for toxiciy estimation it is better to stick to the author's approach as this task anyway requires a neural network (or human evaluation)"
   ]
  }
 ],
 "metadata": {
  "kernelspec": {
   "display_name": "Python 3 (ipykernel)",
   "language": "python",
   "name": "python3"
  },
  "language_info": {
   "codemirror_mode": {
    "name": "ipython",
    "version": 3
   },
   "file_extension": ".py",
   "mimetype": "text/x-python",
   "name": "python",
   "nbconvert_exporter": "python",
   "pygments_lexer": "ipython3",
   "version": "3.9.0"
  }
 },
 "nbformat": 4,
 "nbformat_minor": 5
}
