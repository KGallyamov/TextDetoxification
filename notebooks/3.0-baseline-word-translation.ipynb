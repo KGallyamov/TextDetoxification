{
 "cells": [
  {
   "cell_type": "code",
   "execution_count": null,
   "id": "40b98bf2-0857-4179-9146-931b402fa534",
   "metadata": {},
   "outputs": [],
   "source": [
    "# https://arxiv.org/pdf/1309.4168.pdf\n",
    "# https://arxiv.org/pdf/1710.04087.pdf"
   ]
  },
  {
   "cell_type": "markdown",
   "id": "908831bd-bb1f-45af-8a8d-b83857a626d7",
   "metadata": {},
   "source": [
    "One approach to this is to isolate \"toxic\" vocabulary $X$ and \"anti-toxic\" vocabulary $Y$ and then find \n",
    "\n",
    "$W = \\arg\\min_W ||WX - Y||_2$\n",
    "\n",
    "In other words, this is dictionary approach, but done in a more automatic way than constructing parallel words corpora by hand\n",
    "\n",
    "TODO:\n",
    "1. Come up with ways of finding X and Y (dataset paper could be addressed for ideas)\n",
    "2. Train W (linear regression or SVD(X @ Y) for orthogonality\n",
    "3. Write naive dictionary baseline (simple replacement, may be even manually defined dictionary)\n",
    "4. Compare the two"
   ]
  },
  {
   "cell_type": "code",
   "execution_count": null,
   "id": "d021a1c1-a120-46b7-b2fd-d44899a89a8b",
   "metadata": {},
   "outputs": [],
   "source": []
  }
 ],
 "metadata": {
  "kernelspec": {
   "display_name": "Python 3 (ipykernel)",
   "language": "python",
   "name": "python3"
  },
  "language_info": {
   "codemirror_mode": {
    "name": "ipython",
    "version": 3
   },
   "file_extension": ".py",
   "mimetype": "text/x-python",
   "name": "python",
   "nbconvert_exporter": "python",
   "pygments_lexer": "ipython3",
   "version": "3.9.0"
  }
 },
 "nbformat": 4,
 "nbformat_minor": 5
}
