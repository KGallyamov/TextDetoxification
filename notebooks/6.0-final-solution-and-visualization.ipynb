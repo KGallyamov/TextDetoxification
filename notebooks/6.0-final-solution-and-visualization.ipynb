{
 "cells": [
  {
   "cell_type": "markdown",
   "id": "4e31e86e-560c-489d-b7c1-d041b6bf68ff",
   "metadata": {},
   "source": [
    "# Final solution training\n",
    "\n",
    "The best results are achieved on T5+LoRA(rank=8, $\\alpha$=32)\n",
    "\n",
    "Launch training with\n",
    "\n",
    "```shell\n",
    "python src/models/train.py t5_lora --epochs=5 --batch_size=32 --gradient_accumulation_steps=4\n",
    "````"
   ]
  },
  {
   "cell_type": "markdown",
   "id": "7032cccc-bf5b-4b4a-8ab3-776a54b78526",
   "metadata": {},
   "source": [
    "After training is complete, `reports/figures/models/` will contain the png file with visualized metrics"
   ]
  }
 ],
 "metadata": {
  "kernelspec": {
   "display_name": "Python 3 (ipykernel)",
   "language": "python",
   "name": "python3"
  },
  "language_info": {
   "codemirror_mode": {
    "name": "ipython",
    "version": 3
   },
   "file_extension": ".py",
   "mimetype": "text/x-python",
   "name": "python",
   "nbconvert_exporter": "python",
   "pygments_lexer": "ipython3",
   "version": "3.9.0"
  }
 },
 "nbformat": 4,
 "nbformat_minor": 5
}
