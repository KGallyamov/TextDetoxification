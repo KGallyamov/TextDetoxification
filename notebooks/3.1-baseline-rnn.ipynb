{
 "cells": [
  {
   "cell_type": "code",
   "execution_count": null,
   "id": "b1389344-02b3-487a-b14d-1afbf9eb50ff",
   "metadata": {},
   "outputs": [],
   "source": [
    "# Not sure if this should be baseline | Also consider weight tying in Vocab projections\n",
    "# Next step from this would be to use transformer-based model (like in the original paper: https://aclanthology.org/2021.emnlp-main.629.pdf)\n",
    "# Simplest approach for utilizin transformer-based model - treat task as NMT"
   ]
  }
 ],
 "metadata": {
  "kernelspec": {
   "display_name": "Python 3 (ipykernel)",
   "language": "python",
   "name": "python3"
  },
  "language_info": {
   "codemirror_mode": {
    "name": "ipython",
    "version": 3
   },
   "file_extension": ".py",
   "mimetype": "text/x-python",
   "name": "python",
   "nbconvert_exporter": "python",
   "pygments_lexer": "ipython3",
   "version": "3.9.0"
  }
 },
 "nbformat": 4,
 "nbformat_minor": 5
}
