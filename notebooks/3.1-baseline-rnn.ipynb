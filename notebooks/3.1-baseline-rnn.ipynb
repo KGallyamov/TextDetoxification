{
 "cells": [
  {
   "cell_type": "code",
   "execution_count": null,
   "id": "b1389344-02b3-487a-b14d-1afbf9eb50ff",
   "metadata": {},
   "outputs": [],
   "source": [
    "# Not sure if this should be baseline | Also consider weight tying in Vocab projections\n",
    "# Next step from this would be to use transformer-based model (like in the original paper: https://aclanthology.org/2021.emnlp-main.629.pdf)\n",
    "# Simplest approach for utilizin transformer-based model - treat task as NMT"
   ]
  },
  {
   "cell_type": "code",
   "execution_count": null,
   "id": "f776180b-b6e5-437e-98fd-fcbda1aed8df",
   "metadata": {},
   "outputs": [],
   "source": [
    "import os, sys\n",
    "\n",
    "dir2 = os.path.abspath('')\n",
    "dir1 = os.path.dirname(dir2)\n",
    "if not dir1 in sys.path:\n",
    "    sys.path.append(dir1)"
   ]
  },
  {
   "cell_type": "code",
   "execution_count": null,
   "id": "9d63acf8-234a-416f-b157-38e703a0c12c",
   "metadata": {},
   "outputs": [],
   "source": [
    "import numpy as np\n",
    "import matplotlib.pyplot as plt\n",
    "from tqdm.auto import tqdm\n",
    "from src.data.make_dataset import TextDetoxificationDataset, bleu_score"
   ]
  },
  {
   "cell_type": "code",
   "execution_count": null,
   "id": "32c679cd-05ba-42c2-81df-0ac5ecaf7c16",
   "metadata": {},
   "outputs": [],
   "source": [
    "train_dataset = TextDetoxificationDataset(mode='train')\n",
    "val_dataset = TextDetoxificationDataset(mode='val', token2idx=train_dataset.token2idx)"
   ]
  },
  {
   "cell_type": "code",
   "execution_count": null,
   "id": "c0331ce7-3c41-48bd-8464-2228bd79a7ba",
   "metadata": {},
   "outputs": [],
   "source": [
    "model = encoder_decoder_lstm"
   ]
  },
  {
   "cell_type": "code",
   "execution_count": null,
   "id": "cc94e413-c280-4c90-b43b-10e37e5fc0d1",
   "metadata": {},
   "outputs": [],
   "source": []
  },
  {
   "cell_type": "code",
   "execution_count": null,
   "id": "a2635490-a6cc-45ad-8707-739513941965",
   "metadata": {},
   "outputs": [],
   "source": []
  },
  {
   "cell_type": "markdown",
   "id": "482d38e3-6285-4a30-84e0-6ae4ec56a82e",
   "metadata": {},
   "source": [
    "### Model"
   ]
  },
  {
   "cell_type": "code",
   "execution_count": null,
   "id": "6df54003-607a-47ae-a3cd-dd00b859b56f",
   "metadata": {},
   "outputs": [],
   "source": [
    "class BaseTranslationModel(nn.Module):\n",
    "\n",
    "    def __init__(self, vocab_size, emb_dim, hidden_dim, n_layers):\n",
    "        self.source_embeddings = nn.Embedding(vocab_size, emb_dim)\n",
    "        self.encoder = nn.RNN(emb_dim, hidden_dim, n_layers, batch_first=True)\n",
    "        self.enc_dec_proj = nn.Linear(hidden_dim, hidden_dim)\n",
    "        \n",
    "        self.decoder = nn.RNNCell(hidden_dim, hidden_dim)\n",
    "        self.decoder_projection = nn.Linear(emb_dim, vocab_size)\n",
    "        self.decoder_projection.weight = self.source_embeddings.weight\n",
    "\n",
    "    def encode(self):\n",
    "        pass\n",
    "\n",
    "    def decode_step(self)"
   ]
  },
  {
   "cell_type": "code",
   "execution_count": null,
   "id": "c16af892-cc6c-446f-baaf-5556a7de85e9",
   "metadata": {},
   "outputs": [],
   "source": []
  },
  {
   "cell_type": "code",
   "execution_count": null,
   "id": "121ba6da-0ba2-4080-9ca9-14008e39cbd4",
   "metadata": {},
   "outputs": [],
   "source": []
  },
  {
   "cell_type": "code",
   "execution_count": null,
   "id": "80dc2ffe-8458-44b3-8717-2ef7256a734a",
   "metadata": {},
   "outputs": [],
   "source": []
  },
  {
   "cell_type": "code",
   "execution_count": null,
   "id": "ebae321b-e555-451b-857f-0bda54918cb4",
   "metadata": {},
   "outputs": [],
   "source": []
  },
  {
   "cell_type": "markdown",
   "id": "33aa1a89-7aa8-42cf-adf7-bb9795588850",
   "metadata": {},
   "source": [
    "### Training"
   ]
  },
  {
   "cell_type": "code",
   "execution_count": null,
   "id": "b4f973df-5d2e-4f54-8420-31a416426a21",
   "metadata": {},
   "outputs": [],
   "source": []
  },
  {
   "cell_type": "code",
   "execution_count": null,
   "id": "62a659de-e0fe-4c9a-a6b1-dcbeca99d4af",
   "metadata": {},
   "outputs": [],
   "source": []
  },
  {
   "cell_type": "code",
   "execution_count": null,
   "id": "59c6f77b-3658-4979-af50-ab19c67b8268",
   "metadata": {},
   "outputs": [],
   "source": []
  },
  {
   "cell_type": "code",
   "execution_count": null,
   "id": "d163c3aa-487b-4179-9460-288a59f4aa63",
   "metadata": {},
   "outputs": [],
   "source": []
  },
  {
   "cell_type": "code",
   "execution_count": null,
   "id": "7a8d58aa-d68c-45be-b13f-bfe3b5a03611",
   "metadata": {},
   "outputs": [],
   "source": []
  },
  {
   "cell_type": "markdown",
   "id": "c08ccb6e-4529-4138-9b57-81cc5d112cf8",
   "metadata": {},
   "source": [
    "### Evaluation"
   ]
  },
  {
   "cell_type": "code",
   "execution_count": null,
   "id": "3d59b591-6204-4070-ad7e-30c9dea75c5b",
   "metadata": {},
   "outputs": [],
   "source": []
  }
 ],
 "metadata": {
  "kernelspec": {
   "display_name": "Python 3 (ipykernel)",
   "language": "python",
   "name": "python3"
  },
  "language_info": {
   "codemirror_mode": {
    "name": "ipython",
    "version": 3
   },
   "file_extension": ".py",
   "mimetype": "text/x-python",
   "name": "python",
   "nbconvert_exporter": "python",
   "pygments_lexer": "ipython3",
   "version": "3.9.0"
  }
 },
 "nbformat": 4,
 "nbformat_minor": 5
}
